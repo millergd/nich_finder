{
 "cells": [
  {
   "cell_type": "markdown",
   "metadata": {},
   "source": [
    "# Clustering Merch Data Shirts\n",
    "1. remove texts that pop up in all documents (i.e. stopwords / phrases)\n",
    "2. clean the documents\n",
    "3. stem the words in each document"
   ]
  },
  {
   "cell_type": "markdown",
   "metadata": {},
   "source": [
    "## Initialize steps"
   ]
  },
  {
   "cell_type": "markdown",
   "metadata": {},
   "source": [
    "First we import the necessary libraries."
   ]
  },
  {
   "cell_type": "code",
   "execution_count": 1,
   "metadata": {},
   "outputs": [],
   "source": [
    "import numpy as np\n",
    "import pandas as pd\n",
    "import nltk\n",
    "from bs4 import BeautifulSoup\n",
    "import re\n",
    "import os\n",
    "import codecs\n",
    "from sklearn import feature_extraction\n",
    "import mpld3"
   ]
  },
  {
   "cell_type": "markdown",
   "metadata": {},
   "source": [
    "Import the stemmer and then tokenize and stem the text."
   ]
  },
  {
   "cell_type": "code",
   "execution_count": 2,
   "metadata": {},
   "outputs": [
    {
     "name": "stdout",
     "output_type": "stream",
     "text": [
      "['artwork']\n"
     ]
    }
   ],
   "source": [
    "# load nltk's SnowballStemmer as variabled 'stemmer'\n",
    "from nltk.stem.snowball import SnowballStemmer\n",
    "stemmer = SnowballStemmer(\"english\")\n",
    "\n",
    "def tokenize_and_stem(text):\n",
    "    # first tokenize by sentence, then by word to ensure that punctuation is caught as it's own token\n",
    "    tokens = [word for sent in nltk.sent_tokenize(text) for word in nltk.word_tokenize(sent)]\n",
    "    filtered_tokens = []\n",
    "    # filter out any tokens not containing letters (e.g., numeric tokens, raw punctuation)\n",
    "    for token in tokens:\n",
    "        if not re.search('[^a-zA-Z]', token):\n",
    "            filtered_tokens.append(token)\n",
    "    stems = [stemmer.stem(t) for t in filtered_tokens]\n",
    "    return stems\n",
    "\n",
    "\n",
    "def tokenize_only(text):\n",
    "    # first tokenize by sentence, then by word to ensure that punctuation is caught as it's own token\n",
    "    tokens = [word.lower() for sent in nltk.sent_tokenize(text) for word in nltk.word_tokenize(sent)]\n",
    "    filtered_tokens = []\n",
    "    # filter out any tokens not containing letters (e.g., numeric tokens, raw punctuation)\n",
    "    for token in tokens:\n",
    "        if not re.search('[^a-zA-Z]', token):\n",
    "            filtered_tokens.append(token)\n",
    "    return filtered_tokens\n",
    "print(tokenize_and_stem('artwork'))\n",
    "# totalvocab_stemmed = []\n",
    "# totalvocab_tokenized = []\n",
    "# for i in documents:\n",
    "#     allwords_stemmed = tokenize_and_stem(i)\n",
    "#     totalvocab_stemmed.extend(allwords_stemmed)\n",
    "    \n",
    "#     allwords_tokenized = tokenize_only(i)\n",
    "#     totalvocab_tokenized.extend(allwords_tokenized)\n",
    "    \n",
    "# vocab_frame = pd.DataFrame({'words': totalvocab_tokenized}, index = totalvocab_stemmed)"
   ]
  },
  {
   "cell_type": "markdown",
   "metadata": {},
   "source": [
    "Now we import the shirt data file and create documents from it. Each document is the title of the shirt followed by it's description."
   ]
  },
  {
   "cell_type": "code",
   "execution_count": 3,
   "metadata": {},
   "outputs": [
    {
     "name": "stdout",
     "output_type": "stream",
     "text": [
      "{'salesRank': '7681', 'asin': 'B07CZZJX5G', 'title': 'Beauty Has No Skin Tone - Melanin Slogan Unisex T-Shirt', 'imgUrl': 'https://m.media-amazon.com/images/I/A13usaonutL._CLa%7C2140,2000%7C71ssvjm33nL.png%7C0,0,2140,2000+0.0,0.0,2140.0,2000.0._UX522_.png', 'trademarked': 'False', 'isMerch': 'True', 'date': 'May 10, 2018', 'unix': '1525910400', 'errorMessage': '[]', 'link': 'https://www.amazon.com/dp/B07CZZJX5G', 'description': 'Solid colors: 100% Cotton; Heather Grey: 90% Cotton, 10% Polyester; All Other Heathers: 50% Cotton, 50% Polyester Imported Machine wash cold with like colors, dry low heat This Beauty Has No Skin Tone sassy attitude Tee Shirt makes a cool gift for all of the beautiful people in your life that represent independence, self-sureness and Black girl Magic. Perfect Novelty gift for both Men and Women. This inspirational quote slogan Tshirt features uplifting words to all from different Races and Skin color. A Funny Slogan T Shirt that makes a great gift for Christmas, Mothers Day, Birthdays, Valentines Day and any occasional for that special person Lightweight, Classic fit, Double-needle sleeve and bottom hem\\n', 'document': 'beauty has no skin tone - melanin slogan unisex t-shirt. this beauty has no skin tone sassy attitude tee shirt makes a cool gift for all of the beautiful people in your life that represent independence, self-sureness and black girl magic. perfect novelty gift for both men and women. this inspirational quote slogan tshirt features uplifting words to all from different races and skin color. a funny slogan t shirt that makes a great gift for christmas, mothers day, birthdays, valentines day and any occasional for that special person \\n'}\n"
     ]
    }
   ],
   "source": [
    "def clean_string(document):\n",
    "    document = document.lower()\n",
    "    default_1 = \"Lightweight, Classic fit, Double-needle sleeve and bottom hem\".lower()\n",
    "    default_2 = \"Solid colors: 100% Cotton; Heather Grey: 90% Cotton, 10% Polyester; All Other Heathers: 50% Cotton, 50% Polyester Imported Machine wash cold with like colors, dry low heat \".lower()\n",
    "    document = document.replace(default_1, '').replace(default_2,'')\n",
    "    \n",
    "    document.replace(\"tee shirt\",\"tshirt\")\n",
    "    document.replace(\"t-shirt\", 'tshirt')\n",
    "    document.replace(' t shirt', 'tshirt')\n",
    "    document.replace(\"-\", \" \")\n",
    "    \n",
    "    document.replace(\"shirt\", \"\")\n",
    "    document.replace(\"tshirt\", \"\")\n",
    "    \n",
    "    document.replace(\"officially licensed\",\"\")\n",
    "    \n",
    "    if re.compile(\"officially licensed [\\w\\s]+ (apparel|shirt)\").search(document):\n",
    "        document = re.sub(r'officially licensed [\\w\\s]+ (apparel|shirt)', '', document)\n",
    "    \n",
    "    if re.compile(\"official [\\w\\s]+merchandise\").search(document):\n",
    "        document = re.sub(r'official [\\w\\s]+merchandise', '', document)\n",
    "\n",
    "    if re.compile(\"graphic [\\w\\s\\-]+shirt\").search(document):\n",
    "        document = re.sub(r'graphic [\\w\\s\\-]+shirt', '', document)\n",
    "    \n",
    "    \n",
    "    document = BeautifulSoup(document, 'html.parser').getText()\n",
    "    \n",
    "    return document\n",
    "\n",
    "def read_shirt_data_file(path):\n",
    "    document_data = []\n",
    "    with open(path, 'r') as data_file:\n",
    "        for line in data_file:\n",
    "            data = {}\n",
    "            if len(line.replace(\"\\\"\",\"\").split('|')) == 11:\n",
    "                for item in line.replace(\"\\\"\",\"\").split('|'):\n",
    "                    data[item.split(':',1)[0]] = item.split(':',1)[1]\n",
    "                data['document'] = clean_string(data['title'] + \". \" + data['description'])\n",
    "    #             line = line.split('|',10)\n",
    "    #             new_line = []\n",
    "    #             for item in line:\n",
    "    #                 print(item)\n",
    "    #                 new_line.append(item.split(':',1)[1])\n",
    "    #             line = [item.split(':',1)[1] for item in line]\n",
    "    #             line.append(clean_string(line[2] + \". \" + line[10]))\n",
    "                document_data.append(data)\n",
    "    # [salesRank (0), asin(1), title(2), imageUrl(3), trademarked(4), isMerch(5), date(6), unix(7), errorMessage(8), link(9), description(10), document(11)]\n",
    "    return document_data\n",
    "\n",
    "document_data = read_shirt_data_file(\"shirts_featured1564783699\")\n",
    "print(document_data[0])"
   ]
  },
  {
   "cell_type": "markdown",
   "metadata": {},
   "source": [
    "Clean the documents to make them unicode."
   ]
  },
  {
   "cell_type": "code",
   "execution_count": 88,
   "metadata": {},
   "outputs": [],
   "source": [
    "# def clean_documents(documents):\n",
    "#     documents_clean = []\n",
    "#     for text in documents:\n",
    "#         text = BeautifulSoup(text, 'html.parser').getText()\n",
    "#         documents_clean.append(text)\n",
    "\n",
    "#     return documents_clean\n",
    "\n",
    "# documents = clean_documents(documents)"
   ]
  },
  {
   "cell_type": "code",
   "execution_count": 89,
   "metadata": {},
   "outputs": [],
   "source": [
    "# print(documents)"
   ]
  },
  {
   "cell_type": "markdown",
   "metadata": {},
   "source": [
    "## Option 1: \n",
    "cosine similarity of stems and ngrams (Tf-idf and document similarity)"
   ]
  },
  {
   "cell_type": "code",
   "execution_count": 6,
   "metadata": {},
   "outputs": [
    {
     "name": "stdout",
     "output_type": "stream",
     "text": [
      "['logo', 'shirt', 'tshirt', 'vintage', 'movie', 'officially', 'licensed', 'official', 'offici', 'licens', 'graphic', 'artwork']\n"
     ]
    },
    {
     "name": "stderr",
     "output_type": "stream",
     "text": [
      "/usr/local/anaconda3/envs/niche_finder/lib/python3.7/site-packages/sklearn/feature_extraction/text.py:300: UserWarning: Your stop_words may be inconsistent with your preprocessing. Tokenizing the stop words generated tokens ['abov', 'afterward', 'alon', 'alreadi', 'alway', 'ani', 'anoth', 'anyon', 'anyth', 'anywher', 'becam', 'becaus', 'becom', 'befor', 'besid', 'cri', 'describ', 'dure', 'els', 'elsewher', 'empti', 'everi', 'everyon', 'everyth', 'everywher', 'fifti', 'forti', 'henc', 'hereaft', 'herebi', 'howev', 'hundr', 'inde', 'licen', 'mani', 'meanwhil', 'moreov', 'movi', 'nobodi', 'noon', 'noth', 'nowher', 'onc', 'onli', 'otherwis', 'ourselv', 'perhap', 'pleas', 'sever', 'sinc', 'sincer', 'sixti', 'someon', 'someth', 'sometim', 'somewher', 'themselv', 'thenc', 'thereaft', 'therebi', 'therefor', 'togeth', 'twelv', 'twenti', 'veri', 'vintag', 'whatev', 'whenc', 'whenev', 'wherea', 'whereaft', 'wherebi', 'wherev', 'whi', 'yourselv'] not in stop_words.\n",
      "  'stop_words.' % sorted(inconsistent))\n"
     ]
    },
    {
     "name": "stdout",
     "output_type": "stream",
     "text": [
      "CPU times: user 1.56 s, sys: 7.24 ms, total: 1.57 s\n",
      "Wall time: 1.56 s\n",
      "41598\n",
      "adult gift idea\n",
      "[[1.00000000e+00 0.00000000e+00 9.47464803e-03 0.00000000e+00\n",
      "  0.00000000e+00 4.06166932e-03 0.00000000e+00 0.00000000e+00\n",
      "  0.00000000e+00 3.90944530e-03 2.49688874e-02 0.00000000e+00\n",
      "  0.00000000e+00 0.00000000e+00 0.00000000e+00 0.00000000e+00\n",
      "  0.00000000e+00 2.95491411e-03 1.24636726e-02 0.00000000e+00\n",
      "  0.00000000e+00 0.00000000e+00 0.00000000e+00 1.55230879e-03\n",
      "  4.35015279e-03 2.17363267e-02 2.70100062e-03 1.96432015e-03\n",
      "  1.17448022e-02 0.00000000e+00 0.00000000e+00 1.21825052e-02\n",
      "  0.00000000e+00 0.00000000e+00 0.00000000e+00 0.00000000e+00\n",
      "  9.14083546e-03 2.00966719e-03 1.08051697e-02 8.62367795e-03\n",
      "  0.00000000e+00 4.47424149e-03 3.79460966e-03 0.00000000e+00\n",
      "  3.83803548e-03 2.60618835e-03 0.00000000e+00 0.00000000e+00\n",
      "  3.00832919e-03 6.64150691e-03 0.00000000e+00 1.48329183e-03\n",
      "  0.00000000e+00 2.09831929e-02 0.00000000e+00 2.57153138e-03\n",
      "  6.55392705e-03 0.00000000e+00 0.00000000e+00 4.66193157e-03\n",
      "  5.43552100e-03 0.00000000e+00 0.00000000e+00 7.11917857e-03\n",
      "  0.00000000e+00 0.00000000e+00 4.29212262e-03 0.00000000e+00\n",
      "  0.00000000e+00 0.00000000e+00 0.00000000e+00 0.00000000e+00\n",
      "  1.07833503e-02 3.26889418e-03 0.00000000e+00 0.00000000e+00\n",
      "  4.40298395e-03 8.56647622e-03 0.00000000e+00 2.87779571e-03\n",
      "  0.00000000e+00 9.70777829e-03 1.63484303e-03 1.54733683e-03\n",
      "  9.16896667e-03 0.00000000e+00 4.62813575e-03 0.00000000e+00\n",
      "  0.00000000e+00 0.00000000e+00 1.67016609e-02 1.67003651e-03\n",
      "  0.00000000e+00 0.00000000e+00 0.00000000e+00 0.00000000e+00\n",
      "  0.00000000e+00 0.00000000e+00 0.00000000e+00 0.00000000e+00\n",
      "  4.33171337e-03 3.42346848e-02 8.01157828e-03 2.43759347e-03\n",
      "  1.73033836e-03 0.00000000e+00 8.62492023e-03 1.19985229e-02\n",
      "  2.96061660e-03 0.00000000e+00 6.51857739e-03 2.72993610e-03\n",
      "  6.69058467e-03 0.00000000e+00 6.22019996e-03 0.00000000e+00\n",
      "  0.00000000e+00 1.63450117e-02 0.00000000e+00 0.00000000e+00\n",
      "  9.67134703e-03 4.21763661e-03 3.46704094e-03 0.00000000e+00\n",
      "  0.00000000e+00 0.00000000e+00 0.00000000e+00 0.00000000e+00\n",
      "  5.01985456e-03 0.00000000e+00 2.48165440e-03 0.00000000e+00\n",
      "  0.00000000e+00 0.00000000e+00 8.10287785e-03 0.00000000e+00\n",
      "  0.00000000e+00 0.00000000e+00 4.00597005e-03 3.45019225e-03\n",
      "  0.00000000e+00 5.87624206e-03 0.00000000e+00 1.66943025e-02\n",
      "  0.00000000e+00 0.00000000e+00 0.00000000e+00 0.00000000e+00\n",
      "  0.00000000e+00 7.00866694e-03 6.10264456e-03 0.00000000e+00\n",
      "  0.00000000e+00 0.00000000e+00 0.00000000e+00 0.00000000e+00\n",
      "  0.00000000e+00 1.56376684e-02 3.37207023e-02 3.96710682e-03\n",
      "  1.15440303e-02 3.21344723e-03 0.00000000e+00 0.00000000e+00\n",
      "  1.32985263e-02 2.49569037e-03 2.11681457e-02 1.53062801e-02\n",
      "  0.00000000e+00 0.00000000e+00 0.00000000e+00 0.00000000e+00\n",
      "  0.00000000e+00 7.06587154e-03 6.98115388e-03 2.19395129e-03\n",
      "  4.90462581e-03 0.00000000e+00 0.00000000e+00 0.00000000e+00\n",
      "  0.00000000e+00 7.06473483e-03 2.13246728e-02 1.16489191e-03\n",
      "  1.55032131e-02 4.50777925e-03 8.78236045e-03 3.74069374e-03\n",
      "  1.71939431e-02 1.30197453e-02 0.00000000e+00 0.00000000e+00\n",
      "  1.15278709e-02 5.91456331e-03 0.00000000e+00 6.46861098e-03\n",
      "  0.00000000e+00 0.00000000e+00 9.36889593e-03 0.00000000e+00\n",
      "  0.00000000e+00 3.69116585e-03 5.10204285e-03 4.66212075e-03\n",
      "  3.66193220e-03 2.46024724e-03 0.00000000e+00 6.96895817e-03\n",
      "  0.00000000e+00 5.86671072e-03 0.00000000e+00 0.00000000e+00\n",
      "  1.95549702e-03 2.92785240e-03 0.00000000e+00 5.25515066e-03\n",
      "  0.00000000e+00 0.00000000e+00 7.38749480e-03 3.65910297e-03\n",
      "  3.75293231e-03 0.00000000e+00 4.35015279e-03 3.90869589e-03\n",
      "  1.35743985e-02 2.33119590e-03 0.00000000e+00 6.69695058e-03\n",
      "  0.00000000e+00 0.00000000e+00 8.23775994e-03 0.00000000e+00\n",
      "  0.00000000e+00 9.22704626e-03 2.44267098e-03 1.95352460e-02\n",
      "  0.00000000e+00 1.44373026e-03 4.26309666e-03 4.32817177e-03\n",
      "  0.00000000e+00 0.00000000e+00 2.41980246e-03 0.00000000e+00\n",
      "  0.00000000e+00 0.00000000e+00 4.35015279e-03 0.00000000e+00\n",
      "  0.00000000e+00 5.60226170e-03 0.00000000e+00 4.20382915e-03\n",
      "  0.00000000e+00 2.55831914e-03 8.25442167e-03 3.64398750e-03\n",
      "  0.00000000e+00 1.17099714e-02 0.00000000e+00 1.01784236e-02\n",
      "  0.00000000e+00 4.41120057e-03 3.83993892e-03 0.00000000e+00\n",
      "  3.94583319e-03 0.00000000e+00 0.00000000e+00 1.77259303e-03\n",
      "  0.00000000e+00 0.00000000e+00 1.79224370e-03 6.42512566e-03\n",
      "  0.00000000e+00 0.00000000e+00 0.00000000e+00 0.00000000e+00\n",
      "  2.64864616e-03 3.64460171e-03 0.00000000e+00 1.31943571e-03\n",
      "  5.33593361e-03 0.00000000e+00 8.49921835e-03 7.68942478e-03\n",
      "  3.39807981e-03 0.00000000e+00 0.00000000e+00 0.00000000e+00\n",
      "  2.34761212e-03 1.20135635e-02 0.00000000e+00 0.00000000e+00\n",
      "  1.23354638e-03 1.06730583e-02 1.17382325e-03 7.82759405e-03\n",
      "  0.00000000e+00 1.91849327e-03 0.00000000e+00 0.00000000e+00\n",
      "  6.59179057e-03 3.10763154e-03 1.95567223e-02 0.00000000e+00\n",
      "  0.00000000e+00 4.24601496e-03 2.07442842e-03 0.00000000e+00\n",
      "  0.00000000e+00 0.00000000e+00 0.00000000e+00 0.00000000e+00\n",
      "  1.89643670e-02 0.00000000e+00 1.27166113e-02 1.30723554e-02\n",
      "  0.00000000e+00 6.08540841e-03 3.91807760e-03 7.27873572e-03\n",
      "  1.47798439e-02 0.00000000e+00 0.00000000e+00 0.00000000e+00\n",
      "  1.90394487e-03 0.00000000e+00 2.84531796e-03 0.00000000e+00\n",
      "  2.26963180e-03 2.86382940e-03 0.00000000e+00 1.04567267e-02\n",
      "  0.00000000e+00 0.00000000e+00 0.00000000e+00 0.00000000e+00\n",
      "  5.38668798e-03 7.69870881e-03 3.64398750e-03 4.39998151e-03\n",
      "  2.72037119e-03 2.90817898e-03 6.97331568e-03 0.00000000e+00\n",
      "  1.27873174e-02 0.00000000e+00 8.30000207e-03 2.29082573e-03\n",
      "  0.00000000e+00 0.00000000e+00 0.00000000e+00 7.02456163e-03\n",
      "  0.00000000e+00 8.02049189e-03 4.37836870e-03 2.10283909e-02\n",
      "  0.00000000e+00 0.00000000e+00 0.00000000e+00 3.67408320e-03\n",
      "  0.00000000e+00 6.48285961e-03 8.62492023e-03 1.20786906e-02\n",
      "  1.36031931e-03 5.09028942e-03 0.00000000e+00 0.00000000e+00\n",
      "  4.59756185e-03 0.00000000e+00 1.48799686e-02 1.46800312e-03\n",
      "  0.00000000e+00 5.60226170e-03 1.35314440e-02 5.92565575e-03\n",
      "  3.11732062e-03 0.00000000e+00 0.00000000e+00 0.00000000e+00\n",
      "  8.06333322e-03 5.28435700e-03 0.00000000e+00 0.00000000e+00\n",
      "  8.85788733e-03 0.00000000e+00 0.00000000e+00 6.64150691e-03\n",
      "  0.00000000e+00 4.27785597e-03 0.00000000e+00 4.10486304e-03\n",
      "  1.97415889e-03 0.00000000e+00 0.00000000e+00 0.00000000e+00\n",
      "  0.00000000e+00 0.00000000e+00 0.00000000e+00 0.00000000e+00\n",
      "  5.82383775e-03 2.44642732e-02 0.00000000e+00 1.73158695e-02\n",
      "  0.00000000e+00 0.00000000e+00 4.56822318e-03 0.00000000e+00\n",
      "  0.00000000e+00 3.60401762e-03 8.92357904e-03 1.88714065e-03\n",
      "  0.00000000e+00 0.00000000e+00 0.00000000e+00 0.00000000e+00\n",
      "  0.00000000e+00 1.74403427e-03 2.10059271e-03 5.91361461e-03\n",
      "  0.00000000e+00 0.00000000e+00 4.36622688e-03 0.00000000e+00\n",
      "  1.37174205e-02 7.92931598e-03 0.00000000e+00 0.00000000e+00\n",
      "  1.23736528e-02 0.00000000e+00 1.54380192e-02 4.76686422e-03\n",
      "  0.00000000e+00 8.56647622e-03 3.10702959e-03 0.00000000e+00\n",
      "  1.08280223e-02 0.00000000e+00 2.91561430e-03 2.84496671e-03\n",
      "  3.31385285e-03 3.94583319e-03 1.48329183e-03 0.00000000e+00\n",
      "  1.32558892e-02 8.22533474e-03 0.00000000e+00 3.55647817e-03\n",
      "  0.00000000e+00 0.00000000e+00 0.00000000e+00 0.00000000e+00\n",
      "  0.00000000e+00 0.00000000e+00 3.17931641e-03 0.00000000e+00\n",
      "  0.00000000e+00 5.22907648e-03 0.00000000e+00 0.00000000e+00\n",
      "  4.24798322e-03 9.53611416e-03 5.96676782e-03 0.00000000e+00\n",
      "  3.75064101e-03 0.00000000e+00 5.26040577e-03 0.00000000e+00\n",
      "  0.00000000e+00 3.65910297e-03 1.83491760e-02 2.86946439e-03\n",
      "  4.30848622e-03 3.00266413e-02 0.00000000e+00 5.30995039e-03\n",
      "  2.80064911e-03 7.77071521e-03 0.00000000e+00 9.02991339e-03\n",
      "  7.76406041e-03 1.03024680e-02 3.30202902e-03 0.00000000e+00\n",
      "  0.00000000e+00 0.00000000e+00 0.00000000e+00 4.88476696e-03\n",
      "  2.61406418e-03 0.00000000e+00 0.00000000e+00 2.04474847e-02\n",
      "  0.00000000e+00 0.00000000e+00 0.00000000e+00 0.00000000e+00\n",
      "  9.63902342e-04 9.33640470e-03 0.00000000e+00 0.00000000e+00\n",
      "  0.00000000e+00 2.49709856e-03 0.00000000e+00 1.82394016e-03\n",
      "  1.23145472e-03 0.00000000e+00 1.40295757e-02 8.40168489e-03\n",
      "  0.00000000e+00 5.94075017e-03 1.64377777e-03 1.28089059e-03\n",
      "  0.00000000e+00 0.00000000e+00 2.47102606e-03 6.27846632e-03\n",
      "  2.09789377e-02 0.00000000e+00 0.00000000e+00 0.00000000e+00\n",
      "  0.00000000e+00 5.77886596e-03 1.03414094e-03 0.00000000e+00\n",
      "  2.27651430e-03 1.79769297e-02 1.42365617e-03 0.00000000e+00\n",
      "  0.00000000e+00 3.25319637e-02 8.17208409e-03 4.54743057e-03\n",
      "  0.00000000e+00 0.00000000e+00 8.41805918e-03 3.70463037e-03\n",
      "  5.14421752e-03 0.00000000e+00 0.00000000e+00 1.12502166e-02\n",
      "  4.82943505e-03 1.71403098e-03 1.92883182e-03 0.00000000e+00\n",
      "  2.97797152e-02 6.91303388e-03 0.00000000e+00 4.59675877e-03\n",
      "  0.00000000e+00 1.27330957e-03 3.70239932e-03 0.00000000e+00\n",
      "  0.00000000e+00 1.44683337e-03 0.00000000e+00 0.00000000e+00\n",
      "  0.00000000e+00 0.00000000e+00 1.02303160e-02 1.58376772e-03\n",
      "  4.53780111e-03 8.89010622e-03 1.48329183e-03 0.00000000e+00\n",
      "  0.00000000e+00 0.00000000e+00 0.00000000e+00 0.00000000e+00\n",
      "  7.21267748e-03 2.39616244e-02 1.54715974e-03 5.72663302e-03\n",
      "  1.15483375e-02 3.37812403e-03 9.74365581e-04 4.04411540e-03\n",
      "  1.33465048e-03 0.00000000e+00 0.00000000e+00 0.00000000e+00\n",
      "  0.00000000e+00 7.81209392e-03 0.00000000e+00 3.99549442e-03\n",
      "  6.86503425e-03 6.64838383e-03 0.00000000e+00 2.59780673e-03\n",
      "  0.00000000e+00 9.89309435e-03 3.69394356e-03 6.75509943e-03\n",
      "  0.00000000e+00 0.00000000e+00 2.28026548e-03 0.00000000e+00\n",
      "  0.00000000e+00 2.68399346e-03 0.00000000e+00 7.09480085e-03\n",
      "  0.00000000e+00 0.00000000e+00 9.91081776e-03 0.00000000e+00\n",
      "  1.30588382e-02 2.65670609e-03 1.67003651e-03 7.78192263e-03\n",
      "  0.00000000e+00 4.41734200e-03 2.86049352e-02 0.00000000e+00\n",
      "  0.00000000e+00 5.74627575e-03 7.13134853e-03 1.04007582e-02\n",
      "  7.77463458e-03 6.48148390e-03 0.00000000e+00 0.00000000e+00\n",
      "  0.00000000e+00 4.06307178e-03 2.87256376e-03 6.59447448e-03\n",
      "  0.00000000e+00 0.00000000e+00 0.00000000e+00 1.97981570e-03\n",
      "  1.28602768e-02 0.00000000e+00 1.38359363e-03 8.32406347e-03\n",
      "  1.62677976e-02 0.00000000e+00 9.13126446e-03 7.63881158e-03\n",
      "  7.09480085e-03 1.33370877e-02 0.00000000e+00 0.00000000e+00\n",
      "  0.00000000e+00 1.45942576e-03 5.71730080e-03 7.35653438e-03\n",
      "  2.10631691e-02 0.00000000e+00 0.00000000e+00 8.26211524e-03\n",
      "  0.00000000e+00 0.00000000e+00 1.26137354e-02 8.56647622e-03\n",
      "  0.00000000e+00 4.97164548e-03 2.80452476e-03 1.27964968e-02\n",
      "  0.00000000e+00 2.69728833e-03 0.00000000e+00 3.83993892e-03\n",
      "  0.00000000e+00 4.15430055e-03 0.00000000e+00 7.80500374e-03\n",
      "  0.00000000e+00 1.13852290e-02 0.00000000e+00 5.10662378e-03\n",
      "  0.00000000e+00 0.00000000e+00 0.00000000e+00 2.39689903e-03\n",
      "  0.00000000e+00 1.05539964e-01 7.73295371e-03 0.00000000e+00\n",
      "  4.51099266e-03 0.00000000e+00 0.00000000e+00 0.00000000e+00\n",
      "  1.64647639e-02 4.59678168e-03 0.00000000e+00 1.09796284e-02\n",
      "  5.61709108e-03 0.00000000e+00 7.76979584e-03 6.23831025e-03\n",
      "  4.05223794e-03 6.22709875e-03 2.28449520e-02 8.66140773e-03\n",
      "  6.08999107e-03 4.59487614e-03 1.31607756e-02 3.14869887e-03\n",
      "  0.00000000e+00 3.24751216e-03 5.31667545e-03 3.47034505e-03\n",
      "  1.46624541e-02 0.00000000e+00 2.09801243e-03 0.00000000e+00\n",
      "  9.23579480e-03 0.00000000e+00 7.22092531e-03 7.85097256e-03\n",
      "  0.00000000e+00 3.57105433e-03 2.70404730e-02 0.00000000e+00\n",
      "  1.24589265e-02 0.00000000e+00 6.42621717e-03 1.57864738e-02\n",
      "  0.00000000e+00 1.95623548e-03 0.00000000e+00 1.78697934e-03\n",
      "  1.03511140e-02 1.88069770e-03 9.69802828e-03 2.07357778e-03\n",
      "  8.88181501e-03 0.00000000e+00 1.73327611e-03 4.12981302e-03\n",
      "  3.14078319e-03 0.00000000e+00 3.56559121e-03 1.24620052e-02\n",
      "  2.59602741e-03 0.00000000e+00 1.50342974e-03 4.34686148e-03\n",
      "  0.00000000e+00 1.16572365e-02 6.28053019e-03 7.79818982e-03\n",
      "  0.00000000e+00 1.66374670e-03 0.00000000e+00 1.81349459e-02\n",
      "  5.10173373e-03 1.61411672e-03 5.73943468e-03 1.46007253e-02\n",
      "  0.00000000e+00 0.00000000e+00 0.00000000e+00 5.38824171e-03\n",
      "  2.83847337e-03 1.20091408e-02 0.00000000e+00 5.52886673e-03\n",
      "  1.12926072e-02 1.25949008e-02 0.00000000e+00 0.00000000e+00\n",
      "  0.00000000e+00 3.48556516e-03 0.00000000e+00 0.00000000e+00\n",
      "  0.00000000e+00 2.48906033e-03 0.00000000e+00 8.56647622e-03\n",
      "  0.00000000e+00 0.00000000e+00 0.00000000e+00 4.08786045e-03\n",
      "  7.52918633e-03 1.24412999e-03 9.05646407e-03 0.00000000e+00\n",
      "  6.90680757e-03 2.87107218e-03 0.00000000e+00 0.00000000e+00\n",
      "  0.00000000e+00 0.00000000e+00 0.00000000e+00 7.33275237e-03\n",
      "  0.00000000e+00 3.72565506e-03 2.36077859e-03 1.39091356e-03\n",
      "  0.00000000e+00 8.37118478e-03 5.32627891e-03 6.04544191e-03\n",
      "  1.06845703e-02 6.59550994e-03 2.91729782e-03 9.45021972e-03\n",
      "  0.00000000e+00 1.85935133e-02 2.04830985e-02 0.00000000e+00\n",
      "  0.00000000e+00 7.65135791e-03 2.32243572e-03 5.65051607e-03\n",
      "  0.00000000e+00 0.00000000e+00 2.96251883e-03 8.18499105e-03\n",
      "  2.57837046e-03 0.00000000e+00 9.17544507e-03 0.00000000e+00\n",
      "  8.51404964e-03 1.06637372e-02 0.00000000e+00 1.71403098e-03\n",
      "  7.78263458e-03 2.41388857e-03 3.16426599e-03 1.13683880e-03\n",
      "  0.00000000e+00 1.51440730e-03 0.00000000e+00 1.65234633e-02\n",
      "  0.00000000e+00 0.00000000e+00 0.00000000e+00 0.00000000e+00\n",
      "  5.70300904e-02 0.00000000e+00 1.48771511e-02 0.00000000e+00\n",
      "  2.78866252e-03 6.90680757e-03 0.00000000e+00 2.14485500e-03\n",
      "  7.39000058e-03 3.33071373e-03 3.18703000e-02 0.00000000e+00\n",
      "  1.78581089e-02 5.32084428e-03 5.68772914e-03 2.66716392e-03\n",
      "  2.25903160e-02 7.93038888e-02 0.00000000e+00 2.27406845e-03\n",
      "  1.72642244e-03 3.65609679e-03 7.80650337e-03 8.60343467e-03\n",
      "  0.00000000e+00 0.00000000e+00 1.66982067e-03 0.00000000e+00\n",
      "  2.46870523e-02 6.93725783e-03 0.00000000e+00 0.00000000e+00\n",
      "  4.24175778e-03 2.25816101e-02 3.34440747e-03 1.73689979e-02\n",
      "  0.00000000e+00 9.54883007e-03 0.00000000e+00 4.43625098e-03\n",
      "  0.00000000e+00 0.00000000e+00 0.00000000e+00 1.63633848e-02\n",
      "  0.00000000e+00 3.18885818e-03 0.00000000e+00 4.21929673e-03\n",
      "  8.87324753e-03 4.43621488e-03 9.26893747e-03 6.36998060e-03\n",
      "  0.00000000e+00 0.00000000e+00 2.24298325e-03 0.00000000e+00\n",
      "  7.07151289e-03 1.06518386e-02 3.65227485e-03 4.27632515e-03\n",
      "  1.79317518e-02 2.25903160e-02 0.00000000e+00 3.39675740e-03\n",
      "  0.00000000e+00 0.00000000e+00 3.67756150e-03 0.00000000e+00\n",
      "  1.00392211e-02 8.92096821e-03 5.24481986e-02 4.84668533e-03\n",
      "  0.00000000e+00 0.00000000e+00 2.81530929e-03 0.00000000e+00\n",
      "  0.00000000e+00 3.13641712e-03 0.00000000e+00 8.54602933e-03\n",
      "  0.00000000e+00 3.88229629e-03 3.34319158e-03 0.00000000e+00\n",
      "  0.00000000e+00 6.01833789e-03 0.00000000e+00 2.84070119e-02\n",
      "  1.61536011e-03 7.44333857e-03 3.63310532e-03 4.35015279e-03\n",
      "  1.31001087e-02 5.98605388e-03 1.39597774e-03 9.57714138e-03\n",
      "  6.41895143e-03 2.71909908e-03 0.00000000e+00 3.10412694e-03\n",
      "  0.00000000e+00 0.00000000e+00 0.00000000e+00 0.00000000e+00\n",
      "  0.00000000e+00 4.89167112e-03 1.61656778e-03 7.96115547e-03\n",
      "  0.00000000e+00 4.40615003e-03 7.58703104e-03 8.67570359e-02\n",
      "  0.00000000e+00 2.83914718e-03 0.00000000e+00 0.00000000e+00\n",
      "  0.00000000e+00 2.87578061e-03 0.00000000e+00 4.76975803e-03\n",
      "  1.88394111e-03 9.33234235e-03 9.42667110e-03 4.36175445e-03\n",
      "  3.72653877e-03 4.45532494e-03 0.00000000e+00 0.00000000e+00\n",
      "  0.00000000e+00 0.00000000e+00 2.45927437e-03 0.00000000e+00\n",
      "  5.13165393e-03 0.00000000e+00 1.11517468e-02 0.00000000e+00\n",
      "  1.06512467e-02 7.44493259e-03 0.00000000e+00 0.00000000e+00\n",
      "  0.00000000e+00 1.66039237e-03 0.00000000e+00 1.14576108e-02\n",
      "  0.00000000e+00 2.87830357e-03 0.00000000e+00 0.00000000e+00\n",
      "  0.00000000e+00 0.00000000e+00 8.01986709e-03 6.27245384e-03\n",
      "  0.00000000e+00 0.00000000e+00 4.37288291e-03 0.00000000e+00\n",
      "  5.20751724e-03 6.50864902e-02]]\n",
      "checking B07CZZJX5G for similarities...\n",
      "beauty has no skin tone - melanin slogan unisex t-shirt. this beauty has no skin tone sassy attitude tee shirt makes a cool gift for all of the beautiful people in your life that represent independence, self-sureness and black girl magic. perfect novelty gift for both men and women. this inspirational quote slogan tshirt features uplifting words to all from different races and skin color. a funny slogan t shirt that makes a great gift for christmas, mothers day, birthdays, valentines day and any occasional for that special person \n",
      "\n",
      "1.0 beauty has no skin tone - melanin slogan unisex t-shirt. this beauty has no skin tone sassy attitude tee shirt makes a cool gift for all of the beautiful people in your life that represent independence, self-sureness and black girl magic. perfect novelty gift for both men and women. this inspirational quote slogan tshirt features uplifting words to all from different races and skin color. a funny slogan t shirt that makes a great gift for christmas, mothers day, birthdays, valentines day and any occasional for that special person \n",
      "\n",
      "0.10553996428291318 afro diva black girl magic t-shirt lips natural melanin. black girl magic t-shirt. celebrate your the royalty in your roots! black girl magic t-shirt for all black queens of all ages! several other designs available. custom made . #blackgirlmagic,melanin, poppin african queen shirt \n",
      "\n"
     ]
    }
   ],
   "source": [
    "from sklearn.feature_extraction.text import TfidfVectorizer\n",
    "from sklearn.feature_extraction import text\n",
    "\n",
    "with open('stop_words.txt','r') as f:\n",
    "    extra_stop_words = f.read().split('\\n')\n",
    "\n",
    "print(extra_stop_words)\n",
    "\n",
    "my_stop_words = text.ENGLISH_STOP_WORDS.union(extra_stop_words)\n",
    "#print(my_stop_words)\n",
    "\n",
    "tfidf_vectorizer = TfidfVectorizer(max_df=0.15, max_features=200000,\n",
    "                                 min_df=0, stop_words=my_stop_words,\n",
    "                                 use_idf=True, tokenizer=tokenize_and_stem, ngram_range=(1,3))\n",
    "\n",
    "%time tfidf_matrix = tfidf_vectorizer.fit_transform([document['document'] for document in document_data])\n",
    "# print(tfidf_matrix)\n",
    "# print(tfidf_matrix.shape)\n",
    "\n",
    "terms = tfidf_vectorizer.get_feature_names()\n",
    "print(len(terms))\n",
    "#print(stemmed_documents[99])\n",
    "\n",
    "print(terms[247])\n",
    "\n",
    "from sklearn.metrics.pairwise import cosine_similarity\n",
    "#print(cosine_similarity(tfidf_matrix))\n",
    "# print(tfidf_matrix[0])\n",
    "# print(tfidf_matrix[1])\n",
    "# print(tfidf_matrix[2])\n",
    "start = 0\n",
    "length = 1\n",
    "dist = cosine_similarity(tfidf_matrix[start:start+length],tfidf_matrix)\n",
    "print(dist)\n",
    "for doc_vector_index, doc_vector in enumerate(dist):\n",
    "    print(\"checking {} for similarities...\".format(document_data[start + doc_vector_index]['asin']))\n",
    "    print(\"{}\".format(document_data[start + doc_vector_index]['document']))\n",
    "    for similarity_index, doc_similarity in enumerate(doc_vector):\n",
    "        if doc_similarity > .1:\n",
    "            print(\"{} {}\".format(doc_similarity, document_data[similarity_index]['document']))\n",
    "        \n",
    "    \n",
    "# print(tfidf_matrix.shape)\n",
    "# print(dist)"
   ]
  },
  {
   "cell_type": "markdown",
   "metadata": {},
   "source": [
    "## Option 2: \n",
    "soft cosine similarity using fasttext similarity matrix of single tokens (not good for mba because the exact text needs to be the same)"
   ]
  },
  {
   "cell_type": "code",
   "execution_count": 6,
   "metadata": {},
   "outputs": [
    {
     "name": "stdout",
     "output_type": "stream",
     "text": [
      "3.4.0\n",
      "done\n"
     ]
    }
   ],
   "source": [
    "import gensim\n",
    "# upgrade gensim if you can't import softcossim\n",
    "from gensim.matutils import softcossim \n",
    "from gensim import corpora\n",
    "import gensim.downloader as api\n",
    "from gensim.utils import simple_preprocess # all this does is split a string into an array and clean out punctuation\n",
    "print(gensim.__version__)\n",
    "#> '3.6.0'\n",
    "\n",
    "# Download the FastText model\n",
    "og_fasttext_model300 = api.load('fasttext-wiki-news-subwords-300')\n",
    "print(\"done\")"
   ]
  },
  {
   "cell_type": "code",
   "execution_count": 36,
   "metadata": {},
   "outputs": [
    {
     "name": "stdout",
     "output_type": "stream",
     "text": [
      "Dictionary(844 unique tokens: ['aveng', 'endgam', 'graphic', 'licens', 'logo']...)\n",
      "  (0, 0)\t1.0\n",
      "  (1, 1)\t1.0\n",
      "  (2, 2)\t1.0\n",
      "  (87, 2)\t0.29002804\n",
      "  (513, 2)\t0.39525434\n",
      "  (3, 3)\t1.0\n",
      "  (4, 4)\t1.0\n",
      "  (364, 4)\t0.3381835\n",
      "  (367, 4)\t0.30361277\n",
      "  (421, 4)\t0.3721742\n",
      "  (422, 4)\t0.2973664\n",
      "  (476, 4)\t0.53717667\n",
      "  (511, 4)\t0.38052085\n",
      "  (575, 4)\t0.36415815\n",
      "  (620, 4)\t0.31270242\n",
      "  (76, 4)\t0.24808821\n",
      "  (5, 5)\t1.0\n",
      "  (137, 5)\t0.353291\n",
      "  (734, 5)\t0.24536575\n",
      "  (6, 6)\t1.0\n",
      "  (7, 7)\t1.0\n",
      "  (8, 8)\t1.0\n",
      "  (43, 8)\t0.549481\n",
      "  (180, 8)\t0.39647278\n",
      "  (197, 8)\t0.36107263\n",
      "  :\t:\n",
      "  (270, 833)\t0.3811983\n",
      "  (381, 833)\t0.37798473\n",
      "  (834, 834)\t1.0\n",
      "  (835, 835)\t1.0\n",
      "  (836, 836)\t1.0\n",
      "  (38, 836)\t0.3020304\n",
      "  (56, 836)\t0.3202309\n",
      "  (64, 836)\t0.4149798\n",
      "  (343, 836)\t0.5361713\n",
      "  (414, 836)\t0.8350328\n",
      "  (568, 836)\t0.33491045\n",
      "  (645, 836)\t0.6516957\n",
      "  (697, 836)\t0.34693995\n",
      "  (768, 836)\t0.566946\n",
      "  (837, 837)\t1.0\n",
      "  (410, 837)\t0.20215365\n",
      "  (622, 837)\t0.4176403\n",
      "  (838, 838)\t1.0\n",
      "  (839, 839)\t1.0\n",
      "  (840, 840)\t1.0\n",
      "  (560, 840)\t0.4419296\n",
      "  (841, 841)\t1.0\n",
      "  (842, 842)\t1.0\n",
      "  (843, 843)\t1.0\n",
      "  (540, 843)\t0.34785533\n",
      "[(2, 1), (4, 1), (5, 2), (8, 2), (9, 1)]\n"
     ]
    }
   ],
   "source": [
    "print(documents[0])\n",
    "stemmed_documents = [tokenize_and_stem(document) for document in documents ]\n",
    "print(stemmed_documents[0])\n",
    "\n",
    "# simple_preprocess\n",
    "\n",
    "# Prepare a dictionary and a corpus.\n",
    "dictionary = corpora.Dictionary(stemmed_documents) # should be using just documents\n",
    "print(dictionary)\n",
    "# Prepare the similarity matrix\n",
    "similarity_matrix = fasttext_model300.similarity_matrix(dictionary, tfidf=None, threshold=0.0, exponent=2.0, nonzero_limit=100)\n",
    "print(similarity_matrix)\n",
    "# Convert the sentences into bag-of-words vectors.\n",
    "sent_1 = dictionary.doc2bow(simple_preprocess(documents[0]))\n",
    "print(sent_1)"
   ]
  },
  {
   "cell_type": "code",
   "execution_count": 37,
   "metadata": {},
   "outputs": [
    {
     "name": "stdout",
     "output_type": "stream",
     "text": [
      "{'aveng': 0, 'endgam': 1, 'graphic': 2, 'licens': 3, 'logo': 4, 'marvel': 5, 'movi': 6, 'offici': 7, 'shirt': 8, 'tee': 9, 'a': 10, 'are': 11, 'as': 12, 'be': 13, 'fan': 14, 'list': 15, 'more': 16, 'releas': 17, 'studio': 18, 'than': 19, 'this': 20, 'updat': 21, 'will': 22, 'autism': 23, 'autist': 24, 'awar': 25, 'behavior': 26, 'disord': 27, 'for': 28, 'heart': 29, 'is': 30, 'kid': 31, 'kind': 32, 'love': 33, 'month': 34, 'or': 35, 'perfect': 36, 'puzzl': 37, 'ribbon': 38, 'show': 39, 'spectrum': 40, 'the': 41, 'to': 42, 'tshirt': 43, 'with': 44, 'art': 45, 'by': 46, 'dawson': 47, 'design': 48, 'god': 49, 'gsm': 50, 'my': 51, 'oh': 52, 'pig': 53, 'shane': 54, 'infin': 55, 'neon': 56, 'team': 57, 'war': 58, 'about': 59, 'adult': 60, 'aur': 61, 'book': 62, 'children': 63, 'color': 64, 'dad': 65, 'gift': 66, 'girl': 67, 'hand': 68, 'i': 69, 'mom': 70, 'piec': 71, 'product': 72, 'ring': 73, 'see': 74, 'speak': 75, 'sticker': 76, 't': 77, 'toddler': 78, 'toy': 79, 'true': 80, 'your': 81, 'babi': 82, 'merchandis': 83, 'origin': 84, 'pinkfong': 85, 'shark': 86, 'poster': 87, 'apparel': 88, 'element': 89, 'of': 90, 'period': 91, 'tabl': 92, 'ultim': 93, 'all': 94, 'also': 95, 'and': 96, 'bee': 97, 'brother': 98, 'bumbl': 99, 'child': 100, 'daughter': 101, 'everyon': 102, 'famili': 103, 'father': 104, 'grandfath': 105, 'grandmoth': 106, 'happen': 107, 'holiday': 108, 'idea': 109, 'mother': 110, 'other': 111, 'partner': 112, 'peopl': 113, 'present': 114, 'signific': 115, 'sister': 116, 'sport': 117, 'spous': 118, 'support': 119, 'who': 120, 'add': 121, 'ani': 122, 'back': 123, 'bing': 124, 'christma': 125, 'clever': 126, 'come': 127, 'comfi': 128, 'cosplay': 129, 'decor': 130, 'do': 131, 'easi': 132, 'fanfict': 133, 'favorit': 134, 'festiv': 135, 'game': 136, 'great': 137, 'in': 138, 'make': 139, 'me': 140, 'mediev': 141, 'olden': 142, 'season': 143, 'set': 144, 'soon': 145, 'stream': 146, 'style': 147, 'throne': 148, 'time': 149, 'tv': 150, 'watch': 151, 'witti': 152, 'you': 153, 'abl': 154, 'anniversari': 155, 'birthday': 156, 'cute': 157, 'day': 158, 'halloween': 159, 'label': 160, 'not': 161, 'thanksgiv': 162, 'accessori': 163, 'bag': 164, 'bracelet': 165, 'card': 166, 'charm': 167, 'coffe': 168, 'collect': 169, 'complet': 170, 'grandpar': 171, 'her': 172, 'hoodi': 173, 'if': 174, 'it': 175, 'just': 176, 'long': 177, 'mug': 178, 'one': 179, 'outfit': 180, 'pair': 181, 'pajama': 182, 'sleev': 183, 'tank': 184, 'teacher': 185, 'then': 186, 'top': 187, 'up': 188, 'want': 189, 'world': 190, 'age': 191, 'an': 192, 'boy': 193, 'bunni': 194, 'chocol': 195, 'dinosaur': 196, 'dress': 197, 'easter': 198, 'eastrawr': 199, 'egg': 200, 'featur': 201, 'funni': 202, 'gather': 203, 'get': 204, 'happi': 205, 'hit': 206, 'hold': 207, 'lover': 208, 'men': 209, 'on': 210, 'rex': 211, 'sure': 212, 'too': 213, 'women': 214, 'april': 215, 'august': 216, 'awesom': 217, 'becaus': 218, 'celebr': 219, 'classic': 220, 'cool': 221, 'decemb': 222, 'distress': 223, 'februari': 224, 'fiftieth': 225, 'font': 226, 'husband': 227, 'januari': 228, 'juli': 229, 'june': 230, 'legend': 231, 'march': 232, 'may': 233, 'novemb': 234, 'octob': 235, 'retro': 236, 'scheme': 237, 'septemb': 238, 'simpl': 239, 'vintag': 240, 'wife': 241, 'captain': 242, 'galaxi': 243, 'goos': 244, 'portrait': 245, 'cast': 246, 'first': 247, 'full': 248, 'ten': 249, 'year': 250, 'anyon': 251, 'anyth': 252, 'aunt': 253, 'can': 254, 'eleph': 255, 'fighter': 256, 'give': 257, 'occas': 258, 'son': 259, 'sunflow': 260, 'uncl': 261, 'warrior': 262, 'where': 263, 'yourself': 264, 'quot': 265, 'mommi': 266, 'best': 267, 'from': 268, 'insid': 269, 'know': 270, 'let': 271, 'look': 272, 'made': 273, 'member': 274, 'nice': 275, 'tell': 276, 'that': 277, 'wear': 278, 'word': 279, 'dure': 280, 'everi': 281, 'friend': 282, 'nation': 283, 'onli': 284, 'parent': 285, 'relat': 286, 'shield': 287, 'superhero': 288, 'their': 289, 'accept': 290, 'understand': 291, 'appreci': 292, 'asd': 293, 'ed': 294, 'educ': 295, 'grab': 296, 'hope': 297, 'inspir': 298, 'specia': 299, 'special': 300, 'teach': 301, 'grandma': 302, 'grandpa': 303, 'af': 304, 'bday': 305, 'boxer': 306, 'boyfriend': 307, 'cake': 308, 'crown': 309, 'cup': 310, 'daddi': 311, 'earring': 312, 'girlfriend': 313, 'hat': 314, 'him': 315, 'joke': 316, 'neck': 317, 'nephew': 318, 'old': 319, 'outta': 320, 'parti': 321, 'purpl': 322, 'straight': 323, 'swimsuit': 324, 'thirti': 325, 'topper': 326, 'v': 327, 'faster': 328, 'further': 329, 'higher': 330, 'belt': 331, 'big': 332, 'costum': 333, 'keychain': 334, 'mama': 335, 'onesi': 336, 'strong': 337, 'suppli': 338, 'sweatshirt': 339, 'unbreak': 340, 'uniform': 341, 'woman': 342, 'black': 343, 'excel': 344, 'friday': 345, 'graduat': 346, 'guy': 347, 'labor': 348, 'memori': 349, 'princip': 350, 'professor': 351, 'pupil': 352, 'rock': 353, 'school': 354, 'squad': 355, 'student': 356, 'test': 357, 'valentin': 358, 'dab': 359, 'dare': 360, 'sleketon': 361, 'way': 362, 'balloon': 363, 'banner': 364, 'born': 365, 'confetti': 366, 'flag': 367, 'foil': 368, 'includ': 369, 'littl': 370, 'pack': 371, 'plate': 372, 'prepar': 373, 'tablecloth': 374, 'upcom': 375, 'chemic': 376, 'has': 377, 'life': 378, 'person': 379, 'rais': 380, 'say': 381, 'super': 382, 'whi': 383, 'cock': 384, 'dont': 385, 'sucker': 386, 'bend': 387, 'buttigieg': 388, 'campaign': 389, 'caucus': 390, 'debat': 391, 'defeat': 392, 'democrat': 393, 'elect': 394, 'hampshir': 395, 'indiana': 396, 'iowa': 397, 'liber': 398, 'mayor': 399, 'new': 400, 'nomine': 401, 'pete': 402, 'presid': 403, 'primari': 404, 'progress': 405, 'south': 406, 'speech': 407, 'trump': 408, 'vote': 409, 'icon': 410, 'into': 411, 'mile': 412, 'moral': 413, 'red': 414, 'activ': 415, 'basebal': 416, 'brave': 417, 'fantasi': 418, 'footbal': 419, 'hockey': 420, 'mascot': 421, 'name': 422, 'pride': 423, 'script': 424, 'soccer': 425, 'softbal': 426, 'basket': 427, 'bunnicorn': 428, 'bunnycorn': 429, 'die': 430, 'elementari': 431, 'flower': 432, 'hunt': 433, 'kindergarten': 434, 'law': 435, 'multicolor': 436, 'pick': 437, 'purchas': 438, 'sweet': 439, 'today': 440, 'unicorn': 441, 'suit': 442, 'arch': 443, 'around': 444, 'but': 445, 'ar': 446, 'ca': 447, 'chemistri': 448, 'dark': 449, 'gag': 450, 'geek': 451, 'geeki': 452, 'humor': 453, 'joker': 454, 'nerd': 455, 'nerdi': 456, 'prank': 457, 'research': 458, 's': 459, 'sarcasm': 460, 'scienc': 461, 'sm': 462, 'someon': 463, 'match': 464, 'mum': 465, 'which': 466, 'anim': 467, 'cat': 468, 'dog': 469, 'ever': 470, 'gir': 471, 'pet': 472, 'sunglass': 473, 'veteran': 474, 'sloth': 475, 'emblem': 476, 'seuss': 477, 'thing': 478, 'destroy': 479, 'kiss': 480, 'kollect': 481, 'part': 482, 'america': 483, 'build': 484, 'conserv': 485, 'feel': 486, 'finger': 487, 'fuck': 488, 'go': 489, 'his': 490, 'immigr': 491, 'messag': 492, 'middl': 493, 'patriot': 494, 'polit': 495, 'put': 496, 'read': 497, 'send': 498, 'smile': 499, 'voter': 500, 'wall': 501, 'we': 502, 'differ': 503, 'llama': 504, 'again': 505, 'cri': 506, 'sequel': 507, 'bear': 508, 'american': 509, 'spidervers': 510, 'symbol': 511, 'tag': 512, 'artwork': 513, 'disney': 514, 'lilo': 515, 'spirit': 516, 'stitch': 517, 'necklac': 518, 'niec': 519, 'pin': 520, 'wristband': 521, 'africa': 522, 'alleg': 523, 'birt': 524, 'chicken': 525, 'farm': 526, 'farmer': 527, 'fast': 528, 'fli': 529, 'flightless': 530, 'head': 531, 'how': 532, 'larg': 533, 'larger': 534, 'letterkenni': 535, 'live': 536, 'much': 537, 'ostrich': 538, 'print': 539, 'ride': 540, 'run': 541, 'sometim': 542, 'stick': 543, 'those': 544, 'unusu': 545, 'chest': 546, 'find': 547, 'found': 548, 'humerus': 549, 'humour': 550, 'pun': 551, 'embrac': 552, 'est': 553, 'heartbeat': 554, 'less': 555, 'ninja': 556, 'nurs': 557, 'ok': 558, 'papa': 559, 'patrick': 560, 'proud': 561, 'st': 562, 'space': 563, 'buy': 564, 'disabl': 565, 'granddaught': 566, 'anybodi': 567, 'rainbow': 568, 'fun': 569, 'meme': 570, 'merch': 571, 'moth': 572, 'night': 573, 'silli': 574, 'slogan': 575, 'statement': 576, 'unspeak': 577, 'video': 578, 'activist': 579, 'aster': 580, 'at': 581, 'beach': 582, 'cleanup': 583, 'environ': 584, 'fennel': 585, 'geranium': 586, 'help': 587, 'intern': 588, 'lavend': 589, 'mistleto': 590, 'need': 591, 'our': 592, 'plant': 593, 'poppi': 594, 'reindeer': 595, 'right': 596, 'rosemari': 597, 'sage': 598, 'save': 599, 'sleigh': 600, 'so': 601, 'step': 602, 'surviv': 603, 'these': 604, 'thyme': 605, 'tinsel': 606, 'tree': 607, 'tri': 608, 'verbena': 609, 'when': 610, 'wreath': 611, 'addit': 612, 'express': 613, 'fish': 614, 'fisherman': 615, 'jewelri': 616, 'uniqu': 617, 'youth': 618, 'amend': 619, 'brand': 620, 'chart': 621, 'click': 622, 'donald': 623, 'gun': 624, 'left': 625, 'option': 626, 'refer': 627, 'size': 628, 'cloth': 629, 'leg': 630, 'tie': 631, 'bar': 632, 'beer': 633, 'blood': 634, 'boob': 635, 'bourbon': 636, 'celtic': 637, 'clover': 638, 'cross': 639, 'drink': 640, 'ear': 641, 'feast': 642, 'four': 643, 'gaelic': 644, 'green': 645, 'headband': 646, 'ireland': 647, 'irish': 648, 'leaf': 649, 'leprechaun': 650, 'lucki': 651, 'paddi': 652, 'parad': 653, 'pat': 654, 'patti': 655, 'pub': 656, 'saint': 657, 'shamrock': 658, 'shenanig': 659, 'shenanigan': 660, 'whiskey': 661, 'both': 662, 'eighti': 663, 'outlin': 664, 'sun': 665, 'treat': 666, 'exam': 667, 'fsa': 668, 'hardest': 669, 'high': 670, 'staar': 671, 'standard': 672, 'state': 673, 'afro': 674, 'after': 675, 'avail': 676, 'caus': 677, 'cultur': 678, 'damn': 679, 'defin': 680, 'fit': 681, 'gina': 682, 'hip': 683, 'hop': 684, 'item': 685, 'ladi': 686, 'loos': 687, 'off': 688, 'order': 689, 'shrink': 690, 'sitcom': 691, 'urban': 692, 'wash': 693, 'action': 694, 'bader': 695, 'ball': 696, 'collar': 697, 'dissent': 698, 'equal': 699, 'femin': 700, 'feminist': 701, 'figur': 702, 'ginsburg': 703, 'merri': 704, 'nichola': 705, 'notori': 706, 'pop': 707, 'rbg': 708, 'ruth': 709, 'truth': 710, 'crayon': 711, 'rip': 712, 'dragon': 713, 'hidden': 714, 'light': 715, 'train': 716, 'univers': 717, 'citi': 718, 'col': 719, 'colorado': 720, 'denver': 721, 'depict': 722, 'home': 723, 'imagin': 724, 'mountain': 725, 'repres': 726, 'rocki': 727, 'skylin': 728, 'town': 729, 'usa': 730, 'wilder': 731, 'bro': 732, 'colleg': 733, 'feat': 734, 'glove': 735, 'junior': 736, 'lacross': 737, 'lax': 738, 'level': 739, 'play': 740, 'player': 741, 'pro': 742, 'relax': 743, 'alumni': 744, 'attorney': 745, 'bachelor': 746, 'beauti': 747, 'bougi': 748, 'degre': 749, 'delta': 750, 'devast': 751, 'diva': 752, 'dst': 753, 'engin': 754, 'fro': 755, 'hair': 756, 'hbcu': 757, 'hoop': 758, 'magic': 759, 'master': 760, 'natur': 761, 'out': 762, 'phd': 763, 'pretti': 764, 'sigma': 765, 'theta': 766, 'twist': 767, 'white': 768, 'young': 769, 'anymor': 770, 'problem': 771, 'retir': 772, 'colleagu': 773, 'whole': 774, 'work': 775, 'bootste': 776, 'conspiraci': 777, 'eye': 778, 'golden': 779, 'thank': 780, 'alien': 781, 'believ': 782, 'butt': 783, 'extraterrestri': 784, 'loser': 785, 'object': 786, 'stuff': 787, 'ufo': 788, 'undefin': 789, 'between': 790, 'eat': 791, 'leagu': 792, 'profession': 793, 'repeat': 794, 'sleep': 795, 'whether': 796, 'aunti': 797, 'equestrian': 798, 'hors': 799, 'horseback': 800, 'race': 801, 'racer': 802, 'rider': 803, 'summer': 804, 'teen': 805, 'tropic': 806, 'whisper': 807, 'anon': 808, 'been': 809, 'behind': 810, 'breadcrumb': 811, 'coincid': 812, 'follow': 813, 'have': 814, 'here': 815, 'letter': 816, 'libertarian': 817, 'mysteri': 818, 'no': 819, 'post': 820, 'q': 821, 'qanon': 822, 'relev': 823, 'republican': 824, 'storm': 825, 'aerosmith': 826, 'dream': 827, 'african': 828, 'curl': 829, 'ethnic': 830, 'kink': 831, 'kinki': 832, 'like': 833, 'lye': 834, 'beto': 835, 'blue': 836, 'button': 837, 'alexandria': 838, 'dunham': 839, 'jeff': 840, 'la': 841, 'jurass': 842, 'park': 843}\n"
     ]
    }
   ],
   "source": [
    "print(dictionary.token2id)"
   ]
  },
  {
   "cell_type": "code",
   "execution_count": 53,
   "metadata": {},
   "outputs": [
    {
     "name": "stdout",
     "output_type": "stream",
     "text": [
      "  (0, 7)\t1.0\n"
     ]
    }
   ],
   "source": [
    "print(similarity_matrix[7])"
   ]
  },
  {
   "cell_type": "code",
   "execution_count": null,
   "metadata": {},
   "outputs": [],
   "source": [
    "sent_1 = dictionary.doc2bow(simple_preprocess(documents[0]))\n",
    "print(sent_1)\n",
    "sent_2 = dictionary.doc2bow(simple_preprocess(documents[16]))\n",
    "print(documents[0])\n",
    "print(documents[18])\n",
    "print(softcossim(sent_1, sent_2, similarity_matrix))"
   ]
  },
  {
   "cell_type": "markdown",
   "metadata": {},
   "source": [
    "## K-means clustering"
   ]
  },
  {
   "cell_type": "markdown",
   "metadata": {},
   "source": [
    "K-means isn't necessarily the best. You must initialize with a pre-determined number of clusters"
   ]
  },
  {
   "cell_type": "code",
   "execution_count": null,
   "metadata": {},
   "outputs": [],
   "source": [
    "from sklearn.cluster import KMeans\n",
    "\n",
    "num_clusters = 5\n",
    "\n",
    "km = KMeans(n_clusters=num_clusters)\n",
    "\n",
    "%time km.fit(tfidf_matrix)\n",
    "\n",
    "clusters = km.labels_.tolist()"
   ]
  },
  {
   "cell_type": "markdown",
   "metadata": {},
   "source": [
    "## Hierarchial document clustering"
   ]
  },
  {
   "cell_type": "code",
   "execution_count": 33,
   "metadata": {},
   "outputs": [
    {
     "data": {
      "image/png": "[encoded data removed]",
      "text/plain": [
       "<Figure size 1080x1440 with 1 Axes>"
      ]
     },
     "metadata": {
      "needs_background": "light"
     },
     "output_type": "display_data"
    }
   ],
   "source": [
    "from scipy.cluster.hierarchy import ward, dendrogram\n",
    "import matplotlib.pyplot as plt\n",
    "\n",
    "\n",
    "linkage_matrix = ward(dist) #define the linkage_matrix using ward clustering pre-computed distances\n",
    "\n",
    "fig, ax = plt.subplots(figsize=(15, 20)) # set size\n",
    "ax = dendrogram(linkage_matrix, orientation=\"right\", labels=asins);\n",
    "\n",
    "plt.tick_params(\\\n",
    "    axis= 'x',          # changes apply to the x-axis\n",
    "    which='both',      # both major and minor ticks are affected\n",
    "    bottom='off',      # ticks along the bottom edge are off\n",
    "    top='off',         # ticks along the top edge are off\n",
    "    labelbottom='off')\n",
    "\n",
    "plt.tight_layout() #show plot with tight layout\n",
    "\n",
    "#uncomment below to save figure\n",
    "plt.savefig('ward_clusters.png', dpi=200) #save figure as ward_clusters"
   ]
  },
  {
   "cell_type": "code",
   "execution_count": null,
   "metadata": {},
   "outputs": [],
   "source": []
  }
 ],
 "metadata": {
  "kernelspec": {
   "display_name": "Python [conda env:niche_finder] *",
   "language": "python",
   "name": "conda-env-niche_finder-py"
  },
  "language_info": {
   "codemirror_mode": {
    "name": "ipython",
    "version": 3
   },
   "file_extension": ".py",
   "mimetype": "text/x-python",
   "name": "python",
   "nbconvert_exporter": "python",
   "pygments_lexer": "ipython3",
   "version": "3.7.3"
  }
 },
 "nbformat": 4,
 "nbformat_minor": 2
}
